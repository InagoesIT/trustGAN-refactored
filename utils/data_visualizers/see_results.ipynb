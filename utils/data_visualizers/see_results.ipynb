{
 "cells": [
  {
   "cell_type": "raw",
   "metadata": {},
   "source": [
    "# Authors:\n",
    "#   Helion du Mas des Bourboux <helion.dumasdesbourboux'at'thalesgroup.com>\n",
    "#\n",
    "# MIT License\n",
    "#\n",
    "# Copyright (c) 2022 THALES\n",
    "#   All Rights Reserved.\n",
    "#\n",
    "# Permission is hereby granted, free of charge, to any person obtaining a copy\n",
    "# of this software and associated documentation files (the \"Software\"), to deal\n",
    "# in the Software without restriction, including without limitation the rights\n",
    "# to use, copy, modify, merge, publish, distribute, sublicense, and/or sell\n",
    "# copies of the Software, and to permit persons to whom the Software is\n",
    "# furnished to do so, subject to the following conditions:\n",
    "#\n",
    "# The above copyright notice and this permission notice shall be included in\n",
    "# all copies or substantial portions of the Software.\n",
    "#\n",
    "# THE SOFTWARE IS PROVIDED \"AS IS\", WITHOUT WARRANTY OF ANY KIND, EXPRESS OR\n",
    "# IMPLIED, INCLUDING BUT NOT LIMITED TO THE WARRANTIES OF MERCHANTABILITY,\n",
    "# FITNESS FOR A PARTICULAR PURPOSE AND NONINFRINGEMENT. IN NO EVENT SHALL THE\n",
    "# AUTHORS OR COPYRIGHT HOLDERS BE LIABLE FOR ANY CLAIM, DAMAGES OR OTHER\n",
    "# LIABILITY, WHETHER IN AN ACTION OF CONTRACT, TORT OR OTHERWISE, ARISING FROM,\n",
    "# OUT OF OR IN CONNECTION WITH THE SOFTWARE OR THE USE OR OTHER DEALINGS IN THE\n",
    "# SOFTWARE.\n",
    "#\n",
    "# 2022 october 21"
   ]
  },
  {
   "cell_type": "markdown",
   "metadata": {},
   "source": [
    "# See the results"
   ]
  },
  {
   "cell_type": "markdown",
   "metadata": {},
   "source": [
    "## Imports"
   ]
  },
  {
   "cell_type": "code",
   "execution_count": 4,
   "metadata": {},
   "outputs": [],
   "source": [
    "import os\n",
    "import torch\n",
    "import matplotlib.pyplot as plt"
   ]
  },
  {
   "cell_type": "code",
   "execution_count": 5,
   "metadata": {},
   "outputs": [],
   "source": [
    "from training.training_pipeline import TrainingPipeline\n",
    "from training.components.hyperparameters import Hyperparameters\n",
    "from training.components.paths import Paths\n",
    "from training.components.state import State"
   ]
  },
  {
   "cell_type": "markdown",
   "metadata": {},
   "source": [
    "## Constants"
   ]
  },
  {
   "cell_type": "code",
   "execution_count": 6,
   "metadata": {},
   "outputs": [],
   "source": [
    "path_to_dataset = \"../../execution_data/data/MNIST\"\n",
    "nr_classes = 10\n",
    "batch_size = 32\n",
    "target_model_network_type = \"Net\"\n",
    "device = \"cuda:0\"\n",
    "verbose = True"
   ]
  },
  {
   "cell_type": "code",
   "execution_count": 7,
   "metadata": {},
   "outputs": [],
   "source": [
    "path_to_load_target_model = \"../../execution_data/target_model_0.pth\"\n",
    "path_to_load_gan = \"../../execution_data/gan_0.pth\""
   ]
  },
  {
   "cell_type": "markdown",
   "metadata": {},
   "source": [
    "## See the results"
   ]
  },
  {
   "cell_type": "code",
   "execution_count": 8,
   "metadata": {},
   "outputs": [],
   "source": [
    "path_to_dataset = os.path.expandvars(path_to_dataset)\n",
    "path_to_load_target_model = os.path.expandvars(path_to_load_target_model)\n",
    "path_to_load_gan = os.path.expandvars(path_to_load_gan)"
   ]
  },
  {
   "cell_type": "code",
   "execution_count": null,
   "metadata": {},
   "outputs": [],
   "source": [
    "hyperparameters = Hyperparameters(\n",
    "        batch_size=batch_size,\n",
    "        total_epochs=None,\n",
    "        nr_steps_target_model_on_gan=None,\n",
    "        nr_steps_gan=None,\n",
    "        nr_step_target_model_alone=None,\n",
    "        proportion_target_model_alone=None,\n",
    "        target_model_network_type=target_model_network_type,\n",
    "        k_fold=1,\n",
    "        validation_interval=1,\n",
    "        gan_residual_units_number=1,\n",
    "        target_model_residual_units_number=1\n",
    ")\n",
    "\n",
    "paths = Paths(dataset=path_to_dataset, root_folder=\"../../execution_data\", \n",
    "              load_target_model=path_to_load_target_model, load_gan=path_to_load_gan\n",
    ")\n",
    "\n",
    "state = State(nr_classes=nr_classes, verbose=verbose, device_name=device)\n",
    "\n",
    "training_pipeline = TrainingPipeline(\n",
    "        hyperparameters=hyperparameters,\n",
    "        paths=paths,\n",
    "        state=state\n",
    ")"
   ]
  },
  {
   "cell_type": "code",
   "execution_count": null,
   "metadata": {},
   "outputs": [],
   "source": [
    "training_pipeline.epoch = None\n",
    "training_pipeline.initialize_data_for_new_model()"
   ]
  },
  {
   "cell_type": "code",
   "execution_count": 11,
   "metadata": {},
   "outputs": [],
   "source": [
    "# training_pipeline.performances_logger.images_plotter.plot_best_and_worst_examples(training_pipeline.data_loaders.validation[0], 0, device)"
   ]
  },
  {
   "cell_type": "code",
   "execution_count": 13,
   "metadata": {},
   "outputs": [],
   "source": [
    "training_pipeline.networks_data.target_model.eval()\n",
    "\n",
    "inputs, labels = next(iter(training_pipeline.data_loaders.train[0]))\n",
    "inputs, labels = inputs.to(training_pipeline.state.device), labels.to(\n",
    "    training_pipeline.state.device\n",
    ")\n",
    "inputs, labels = training_pipeline.modifier((inputs, labels))\n",
    "_, labels = torch.max(labels, 1)\n",
    "\n",
    "target_model_outputs = training_pipeline.networks_data.target_model(inputs)\n",
    "\n",
    "target_model_outputs = torch.nn.functional.softmax(target_model_outputs, dim=1)\n",
    "score_pred, predicted = torch.max(target_model_outputs, 1)\n",
    "\n",
    "# if score_pred.ndim > 1:\n",
    "#    score_pred = score_pred.mean(axis=tuple(range(1, score_pred.ndim)))\n",
    "#    predicted = predicted.to(torch.float).mean(\n",
    "#        axis=tuple(range(1, predicted.ndim))\n",
    "#    )\n",
    "#    labels = labels.to(torch.float).mean(axis=tuple(range(1, labels.ndim)))\n",
    "#\n",
    "# idx_min = torch.argmin(score_pred)\n",
    "# idx_max = torch.argmax(score_pred)\n",
    "#\n",
    "# for idx, name in [(idx_min, \"min\"), (idx_max, \"max\")]:#\n",
    "#    images = inputs[idx].cpu().detach().numpy()\n",
    "#\n",
    "# training_pipeline.networks_data.target_model.train()"
   ]
  },
  {
   "cell_type": "code",
   "execution_count": null,
   "metadata": {},
   "outputs": [],
   "source": [
    "for j in [1]:\n",
    "    X = inputs.detach().cpu()\n",
    "    y = labels.detach().cpu()\n",
    "    y_hat = predicted.detach().cpu()\n",
    "    y_conf = score_pred.detach().cpu()\n",
    "\n",
    "    el = torch.cat([X[j, i, ...][..., None] for i in range(X.shape[1])], axis=-1)\n",
    "    plt.imshow(el)\n",
    "    if y.ndim == 1:\n",
    "        plt.title(int(y[[j]]))\n",
    "    plt.show()\n",
    "\n",
    "    if y.ndim == 3:\n",
    "        plt.imshow(y[j])\n",
    "        plt.show()\n",
    "\n",
    "    if y_hat.ndim == 3:\n",
    "        plt.imshow(y_hat[j])\n",
    "        plt.show()\n",
    "\n",
    "    if y_conf.ndim == 3:\n",
    "        plt.imshow(y_conf[j])\n",
    "        plt.colorbar()\n",
    "        plt.show()"
   ]
  },
  {
   "cell_type": "code",
   "execution_count": null,
   "metadata": {},
   "outputs": [],
   "source": []
  },
  {
   "cell_type": "code",
   "execution_count": null,
   "metadata": {},
   "outputs": [],
   "source": []
  }
 ],
 "metadata": {
  "kernelspec": {
   "display_name": "Python 3 (ipykernel)",
   "language": "python",
   "name": "python3"
  },
  "language_info": {
   "codemirror_mode": {
    "name": "ipython",
    "version": 3
   },
   "file_extension": ".py",
   "mimetype": "text/x-python",
   "name": "python",
   "nbconvert_exporter": "python",
   "pygments_lexer": "ipython3",
   "version": "3.9.13"
  }
 },
 "nbformat": 4,
 "nbformat_minor": 4
}
